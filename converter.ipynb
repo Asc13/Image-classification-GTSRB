{
 "cells": [
  {
   "cell_type": "code",
   "execution_count": 1,
   "metadata": {},
   "outputs": [],
   "source": [
    "from shutil import rmtree\n",
    "from os import listdir, mkdir, scandir\n",
    "from os.path import isfile, join, isdir\n",
    "import cv2\n",
    "import re"
   ]
  },
  {
   "cell_type": "code",
   "execution_count": 6,
   "metadata": {},
   "outputs": [],
   "source": [
    "def convert(rootpath, addon):\n",
    "    \n",
    "    newpath = './train_images'\n",
    "\n",
    "    if isdir(newpath + addon):\n",
    "        rmtree(newpath, ignore_errors = False, onerror = None)\n",
    "    \n",
    "    mkdir(newpath)\n",
    "    mkdir(newpath + addon)\n",
    "\n",
    "    for c in range(0, 43):\n",
    "        prefix = rootpath + '/' + format(c, '05d') + '/'\n",
    "\n",
    "        onlyfiles = [f for f in listdir(prefix) if isfile(join(prefix, f))]\n",
    "\n",
    "        newprefix = newpath + addon + '/' + format(c, '05d') + '/'\n",
    "\n",
    "        if isdir(newprefix):\n",
    "            rmtree(newprefix, ignore_errors = False, onerror = None)\n",
    "        \n",
    "        mkdir(newprefix)\n",
    "\n",
    "        for of in onlyfiles:\n",
    "            if not re.search(r'.*\\.csv', of):\n",
    "                cv2.imwrite(newprefix + re.sub('ppm', 'png', of), cv2.imread(prefix + of))\n",
    "\n",
    "#convert('./1/GTSRB/Final_Training/Images', '/Original')"
   ]
  }
 ],
 "metadata": {
  "interpreter": {
   "hash": "16a84799b4554b55119e03db3af09132791ba03da067a3440fe10ca44b449a97"
  },
  "kernelspec": {
   "display_name": "Python 3.8.13 ('tf_gpu')",
   "language": "python",
   "name": "python3"
  },
  "language_info": {
   "codemirror_mode": {
    "name": "ipython",
    "version": 3
   },
   "file_extension": ".py",
   "mimetype": "text/x-python",
   "name": "python",
   "nbconvert_exporter": "python",
   "pygments_lexer": "ipython3",
   "version": "3.8.13"
  },
  "orig_nbformat": 4
 },
 "nbformat": 4,
 "nbformat_minor": 2
}
